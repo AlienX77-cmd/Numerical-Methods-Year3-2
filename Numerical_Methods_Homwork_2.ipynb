{
  "nbformat": 4,
  "nbformat_minor": 0,
  "metadata": {
    "colab": {
      "provenance": [],
      "authorship_tag": "ABX9TyMyH+9LNKK1w+c2+VgH9g1P",
      "include_colab_link": true
    },
    "kernelspec": {
      "name": "python3",
      "display_name": "Python 3"
    },
    "language_info": {
      "name": "python"
    }
  },
  "cells": [
    {
      "cell_type": "markdown",
      "metadata": {
        "id": "view-in-github",
        "colab_type": "text"
      },
      "source": [
        "<a href=\"https://colab.research.google.com/github/AlienX77-cmd/Numerical-Methods-Year3-2/blob/main/Numerical_Methods_Homwork_2.ipynb\" target=\"_parent\"><img src=\"https://colab.research.google.com/assets/colab-badge.svg\" alt=\"Open In Colab\"/></a>"
      ]
    },
    {
      "cell_type": "markdown",
      "source": [
        "#**Numerical Methods Homework 2 Question 1**\n",
        "##Kittipak Wibulsthien (กิตติภัค วิบูลเสถียร) 6310505688"
      ],
      "metadata": {
        "id": "VAtpjqU4yFcl"
      }
    },
    {
      "cell_type": "code",
      "execution_count": 29,
      "metadata": {
        "id": "kCoxSoPbxKlo"
      },
      "outputs": [],
      "source": [
        "def f(x):\n",
        "  return 230*(x**4) + 18*(x**3) + 9*(x**2) - 221*(x) - 9"
      ]
    },
    {
      "cell_type": "code",
      "source": [
        "# test function\n",
        "print(f(2))"
      ],
      "metadata": {
        "colab": {
          "base_uri": "https://localhost:8080/"
        },
        "id": "JdUnZpC1x5pz",
        "outputId": "617b7292-ccde-47f8-8c09-20bb66c0aaa6"
      },
      "execution_count": 30,
      "outputs": [
        {
          "output_type": "stream",
          "name": "stdout",
          "text": [
            "3409\n"
          ]
        }
      ]
    },
    {
      "cell_type": "markdown",
      "source": [
        "###**False Position Method**"
      ],
      "metadata": {
        "id": "m7C2502k2B7i"
      }
    },
    {
      "cell_type": "code",
      "source": [
        "#Method of False Position\n",
        "p0 = 0\n",
        "p1 = 1\n",
        "\n",
        "#Tolerance and maximum number of operations\n",
        "Tolerance = 10**(-6)\n",
        "NO = 100 \n",
        "\n",
        "i = 2\n",
        "S = [p0, p1]\n",
        "q0 = f(p0)\n",
        "q1 = f(p1)\n",
        "\n",
        "print(\"==== Method of False Position ====\")\n",
        "\n",
        "while(i < NO):\n",
        "    p = p1 - (q1 * (p1 - p0)) / (q1 -q0)\n",
        "    S.append(p)\n",
        "    if(abs(p-p1) < Tolerance):\n",
        "        print(\"Iteration-%d, p = %0.6f and f(p) = %0.6f \\n\" % (i-1, p, f(p)))\n",
        "        print(\"p =\", round(p,6), \" After \", i-1, \" Iterations \\n\")\n",
        "        S = [round(element, 6) for element in S]\n",
        "        print(\"S =\", S)\n",
        "        break\n",
        "    print(\"Iteration-%d, p = %0.6f and f(p) = %0.6f\" % (i-1, p, f(p)))\n",
        "    i+=1\n",
        "    q = f(p)\n",
        "    if(q*q1<0): \n",
        "        p0 = p1\n",
        "        q0 = q1\n",
        "    p1 = p\n",
        "    q1 = q\n",
        "\n",
        "if(i > NO): print(\"Method failed after \", NO, \" iterations\")"
      ],
      "metadata": {
        "colab": {
          "base_uri": "https://localhost:8080/"
        },
        "id": "ZAG402KhzGKX",
        "outputId": "7d363646-ffcd-4959-a22d-9f62507bf0b6"
      },
      "execution_count": 31,
      "outputs": [
        {
          "output_type": "stream",
          "name": "stdout",
          "text": [
            "==== Method of False Position ====\n",
            "Iteration-1, p = 0.250000 and f(p) = -62.507812\n",
            "Iteration-2, p = 0.773763 and f(p) = -83.830520\n",
            "Iteration-3, p = 0.944885 and f(p) = -11.265130\n",
            "Iteration-4, p = 0.961111 and f(p) = -0.855868\n",
            "Iteration-5, p = 0.962306 and f(p) = -0.061802\n",
            "Iteration-6, p = 0.962392 and f(p) = -0.004446\n",
            "Iteration-7, p = 0.962398 and f(p) = -0.000320\n",
            "Iteration-8, p = 0.962398 and f(p) = -0.000023 \n",
            "\n",
            "p = 0.962398  After  8  Iterations \n",
            "\n",
            "S = [0, 1, 0.25, 0.773763, 0.944885, 0.961111, 0.962306, 0.962392, 0.962398, 0.962398]\n"
          ]
        }
      ]
    },
    {
      "cell_type": "markdown",
      "source": [
        "##**Secant Method**"
      ],
      "metadata": {
        "id": "Myyn6j6j8pcn"
      }
    },
    {
      "cell_type": "code",
      "source": [],
      "metadata": {
        "id": "U4RWEWFD80ja"
      },
      "execution_count": 31,
      "outputs": []
    }
  ]
}