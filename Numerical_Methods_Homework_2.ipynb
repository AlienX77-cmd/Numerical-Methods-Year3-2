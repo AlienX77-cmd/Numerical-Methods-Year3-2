{
  "nbformat": 4,
  "nbformat_minor": 0,
  "metadata": {
    "colab": {
      "provenance": [],
      "authorship_tag": "ABX9TyP1siFdqDVoPgz2W3xeJ0ZC",
      "include_colab_link": true
    },
    "kernelspec": {
      "name": "python3",
      "display_name": "Python 3"
    },
    "language_info": {
      "name": "python"
    }
  },
  "cells": [
    {
      "cell_type": "markdown",
      "metadata": {
        "id": "view-in-github",
        "colab_type": "text"
      },
      "source": [
        "<a href=\"https://colab.research.google.com/github/AlienX77-cmd/Numerical-Methods-Year3-2/blob/main/Numerical_Methods_Homework_2.ipynb\" target=\"_parent\"><img src=\"https://colab.research.google.com/assets/colab-badge.svg\" alt=\"Open In Colab\"/></a>"
      ]
    },
    {
      "cell_type": "markdown",
      "source": [
        "#**Numerical Methods Homework 2 Question 1**\n",
        "##Kittipak Wibulsthien (กิตติภัค วิบูลเสถียร) 6310505688"
      ],
      "metadata": {
        "id": "VAtpjqU4yFcl"
      }
    },
    {
      "cell_type": "code",
      "execution_count": 49,
      "metadata": {
        "id": "kCoxSoPbxKlo"
      },
      "outputs": [],
      "source": [
        "def f(x):\n",
        "  return 230*(x**4) + 18*(x**3) + 9*(x**2) - 221*(x) - 9"
      ]
    },
    {
      "cell_type": "code",
      "source": [
        "# test function\n",
        "print(f(2))"
      ],
      "metadata": {
        "colab": {
          "base_uri": "https://localhost:8080/"
        },
        "id": "JdUnZpC1x5pz",
        "outputId": "edd95c38-450b-476d-83c8-7f0e66bdc7f3"
      },
      "execution_count": 50,
      "outputs": [
        {
          "output_type": "stream",
          "name": "stdout",
          "text": [
            "3409\n"
          ]
        }
      ]
    },
    {
      "cell_type": "markdown",
      "source": [
        "###**False Position Method**"
      ],
      "metadata": {
        "id": "m7C2502k2B7i"
      }
    },
    {
      "cell_type": "code",
      "source": [
        "# Method of False Position\n",
        "p0 = 0\n",
        "p1 = 1\n",
        "\n",
        "# Tolerance and maximum number of operations\n",
        "Tolerance = 10**(-6)\n",
        "NO = 100 \n",
        "\n",
        "i = 2 # Initialize i\n",
        "S = [p0, p1]\n",
        "q0 = f(p0)\n",
        "q1 = f(p1)\n",
        "\n",
        "print(\"==== Method of False Position ====\")\n",
        "\n",
        "while(i < NO): # Stopping the condition by considering the maximum number of iterations\n",
        "    p = p1 - (q1 * (p1 - p0)) / (q1 -q0) # Actualize pi\n",
        "    S.append(p)\n",
        "    if(abs(p-p1) < Tolerance):\n",
        "        print(\"Iteration-%d, p = %0.6f and f(p) = %0.6f \\n\" % (i-1, p, f(p)))\n",
        "        print(\"p =\", round(p,6), \"After\", i-1, \"Iterations \\n\") # Printing an estimation with the required precision\n",
        "        S = [round(element, 6) for element in S]\n",
        "        print(\"S =\", S)\n",
        "        break # Stop\n",
        "    print(\"Iteration-%d, p = %0.6f and f(p) = %0.6f\" % (i-1, p, f(p)))\n",
        "    i+=1 # Actualize i\n",
        "    q = f(p)\n",
        "    if(q*q1<0): \n",
        "        p0 = p1\n",
        "        q0 = q1\n",
        "    p1 = p\n",
        "    q1 = q\n",
        "\n",
        "if(i > NO): print(\"Method failed after\", NO, \"iterations\")"
      ],
      "metadata": {
        "colab": {
          "base_uri": "https://localhost:8080/"
        },
        "id": "ZAG402KhzGKX",
        "outputId": "f0e742e4-a1ec-4544-fcfa-e3e357b734b6"
      },
      "execution_count": 51,
      "outputs": [
        {
          "output_type": "stream",
          "name": "stdout",
          "text": [
            "==== Method of False Position ====\n",
            "Iteration-1, p = 0.250000 and f(p) = -62.507812\n",
            "Iteration-2, p = 0.773763 and f(p) = -83.830520\n",
            "Iteration-3, p = 0.944885 and f(p) = -11.265130\n",
            "Iteration-4, p = 0.961111 and f(p) = -0.855868\n",
            "Iteration-5, p = 0.962306 and f(p) = -0.061802\n",
            "Iteration-6, p = 0.962392 and f(p) = -0.004446\n",
            "Iteration-7, p = 0.962398 and f(p) = -0.000320\n",
            "Iteration-8, p = 0.962398 and f(p) = -0.000023 \n",
            "\n",
            "p = 0.962398 After 8 Iterations \n",
            "\n",
            "S = [0, 1, 0.25, 0.773763, 0.944885, 0.961111, 0.962306, 0.962392, 0.962398, 0.962398]\n"
          ]
        }
      ]
    },
    {
      "cell_type": "markdown",
      "source": [
        "##**Secant Method**"
      ],
      "metadata": {
        "id": "Myyn6j6j8pcn"
      }
    },
    {
      "cell_type": "code",
      "source": [
        "# Secant Method\n",
        "p0 = 0 # Initial Approximation p0\n",
        "p1 = 1 # Initialize Approximation p1\n",
        "\n",
        "# Tolerance and maximum number of operations\n",
        "Tolerance = 10**(-6)\n",
        "NO = 18\n",
        "\n",
        "i = 2 # Initialize i\n",
        "S = [p0, p1]\n",
        "q0 = f(p0)\n",
        "q1 = f(p1)\n",
        "\n",
        "print(\"==== Secant Method ====\")\n",
        "\n",
        "while(i < NO): # Stopping the condition by considering the maximum number of iterations\n",
        "    p = p1 - (q1 * (p1 - p0)) / (q1 -q0) # Actualize pi\n",
        "    S.append(p)\n",
        "    if(abs(p-p1) < Tolerance):\n",
        "        print(\"Iteration-%d, p = %0.6f and f(p) = %0.6f \\n\" % (i-1, p, f(p)))\n",
        "        print(\"p =\", round(p,6), \"After\", i-1, \"Iterations \\n\") # Printing an estimation with the required precision\n",
        "        S = [round(element, 6) for element in S]\n",
        "        print(\"S =\", S)\n",
        "        break # Stop\n",
        "    print(\"Iteration-%d, p = %0.6f and f(p) = %0.6f\" % (i-1, p, f(p)))\n",
        "    i+=1 # Actualize i\n",
        "    p0 = p1\n",
        "    q0 = q1\n",
        "    p1 = p\n",
        "    q1 = f(p)\n",
        "\n",
        "if(i > NO): print(\"Method failed after\", NO, \"iterations\")"
      ],
      "metadata": {
        "id": "U4RWEWFD80ja",
        "colab": {
          "base_uri": "https://localhost:8080/"
        },
        "outputId": "ed8d6b9d-ee60-4954-9983-ba0251450371"
      },
      "execution_count": 52,
      "outputs": [
        {
          "output_type": "stream",
          "name": "stdout",
          "text": [
            "==== Secant Method ====\n",
            "Iteration-1, p = 0.250000 and f(p) = -62.507812\n",
            "Iteration-2, p = 0.773763 and f(p) = -83.830520\n",
            "Iteration-3, p = -1.285418 and f(p) = 879.638986\n",
            "Iteration-4, p = 0.594596 and f(p) = -104.691389\n",
            "Iteration-5, p = 0.394641 and f(p) = -88.128940\n",
            "Iteration-6, p = -0.669318 and f(p) = 183.713160\n",
            "Iteration-7, p = 0.049714 and f(p) = -19.961022\n",
            "Iteration-8, p = -0.020754 and f(p) = -4.409574\n",
            "Iteration-9, p = -0.040735 and f(p) = 0.016859\n",
            "Iteration-10, p = -0.040659 and f(p) = -0.000013\n",
            "Iteration-11, p = -0.040659 and f(p) = -0.000000 \n",
            "\n",
            "p = -0.040659 After 11 Iterations \n",
            "\n",
            "S = [0, 1, 0.25, 0.773763, -1.285418, 0.594596, 0.394641, -0.669318, 0.049714, -0.020754, -0.040735, -0.040659, -0.040659]\n"
          ]
        }
      ]
    },
    {
      "cell_type": "markdown",
      "source": [
        "##**Newton Method**"
      ],
      "metadata": {
        "id": "ekbJZ-IADt6N"
      }
    },
    {
      "cell_type": "code",
      "source": [
        "import sympy as sym"
      ],
      "metadata": {
        "id": "ORLF_ZswDkKC"
      },
      "execution_count": 53,
      "outputs": []
    },
    {
      "cell_type": "code",
      "source": [
        "x = sym.Symbol('x')\n",
        "diff_f = sym.diff(f(x))\n",
        "print(diff_f)"
      ],
      "metadata": {
        "colab": {
          "base_uri": "https://localhost:8080/"
        },
        "id": "DseA-1vGE9xf",
        "outputId": "825687f4-8e90-48c2-b81d-cf0f08ad91aa"
      },
      "execution_count": 60,
      "outputs": [
        {
          "output_type": "stream",
          "name": "stdout",
          "text": [
            "920*x**3 + 54*x**2 + 18*x - 221\n"
          ]
        }
      ]
    },
    {
      "cell_type": "code",
      "source": [
        "def derivative(x):\n",
        "  return 920*(x**3) + 54*(x**2) + 18*x - 221"
      ],
      "metadata": {
        "id": "hOG2BQ9JFC4C"
      },
      "execution_count": 67,
      "outputs": []
    },
    {
      "cell_type": "code",
      "source": [
        "# Newton Method\n",
        "p0 = 1/2 # Initial Approximation p0\n",
        "\n",
        "# Tolerance and maximum number of operations\n",
        "Tolerance = 10**(-6)\n",
        "NO = 16\n",
        "\n",
        "i = 1 # Initialize i\n",
        "S = [p0]\n",
        "\n",
        "print(\"==== Newton Method ====\")\n",
        "\n",
        "while(i < NO): # Stopping the condition by considering the maximum number of iterations\n",
        "    p = p0 - ( f(p0)/derivative(p0) ) # Actualize pi\n",
        "    S.append(p)\n",
        "    if(abs(p-p0) < Tolerance):\n",
        "        print(\"Iteration-%d, p = %0.6f and f(p) = %0.6f \\n\" % (i, p, f(p)))\n",
        "        print(\"p =\", round(p,6), \"After\", i, \"Iterations \\n\") # Printing an estimation with the required precision\n",
        "        S = [round(element, 6) for element in S]\n",
        "        print(\"S =\", S)\n",
        "        break # Stop\n",
        "    print(\"Iteration-%d, p = %0.6f and f(p) = %0.6f\" % (i, p, f(p)))\n",
        "    i+=1 # Actualize i\n",
        "    p0 = p\n",
        "\n",
        "if(i > NO): print(\"Method failed after\", NO, \"iterations\")"
      ],
      "metadata": {
        "colab": {
          "base_uri": "https://localhost:8080/"
        },
        "id": "akQmH8jIF1Fx",
        "outputId": "9f2a6375-ffeb-4867-a5c9-ee680f912dea"
      },
      "execution_count": 71,
      "outputs": [
        {
          "output_type": "stream",
          "name": "stdout",
          "text": [
            "==== Newton Method ====\n",
            "Iteration-1, p = -0.705090 and f(p) = 201.836304\n",
            "Iteration-2, p = -0.323791 and f(p) = 65.418427\n",
            "Iteration-3, p = -0.064603 and f(p) = 5.314007\n",
            "Iteration-4, p = -0.040686 and f(p) = 0.005956\n",
            "Iteration-5, p = -0.040659 and f(p) = 0.000000\n",
            "Iteration-6, p = -0.040659 and f(p) = 0.000000 \n",
            "\n",
            "p = -0.040659 After 6 Iterations \n",
            "\n",
            "S = [0.5, -0.70509, -0.323791, -0.064603, -0.040686, -0.040659, -0.040659]\n"
          ]
        }
      ]
    }
  ]
}