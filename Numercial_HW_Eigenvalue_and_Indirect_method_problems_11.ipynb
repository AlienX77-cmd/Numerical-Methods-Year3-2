{
  "nbformat": 4,
  "nbformat_minor": 0,
  "metadata": {
    "colab": {
      "provenance": [],
      "authorship_tag": "ABX9TyOIrQ1ZC5++htHpDq/UC93Q",
      "include_colab_link": true
    },
    "kernelspec": {
      "name": "python3",
      "display_name": "Python 3"
    },
    "language_info": {
      "name": "python"
    }
  },
  "cells": [
    {
      "cell_type": "markdown",
      "metadata": {
        "id": "view-in-github",
        "colab_type": "text"
      },
      "source": [
        "<a href=\"https://colab.research.google.com/github/AlienX77-cmd/Numerical-Methods-Year3-2/blob/main/Numercial_HW_Eigenvalue_and_Indirect_method_problems_11.ipynb\" target=\"_parent\"><img src=\"https://colab.research.google.com/assets/colab-badge.svg\" alt=\"Open In Colab\"/></a>"
      ]
    },
    {
      "cell_type": "code",
      "execution_count": 68,
      "metadata": {
        "id": "hAeSzo8C2P4d"
      },
      "outputs": [],
      "source": [
        "# กิตติภัค วิบูลเสถียร 6310505688\n",
        "# problem: 11\n",
        "import numpy as np"
      ]
    },
    {
      "cell_type": "code",
      "source": [
        "### Initiation ###\n",
        "A1 = [4, -1, 0, 0, -1, 4, -1, 0, 0, -1, 4, -1, 0, 0, -1, 4] \n",
        "A1 = np.array(A1).reshape([4,4]) \n",
        "I = -np.identity(4) \n",
        "O = np.zeros([4,4])\n",
        "\n",
        "MAX_Iteration = 100 \n",
        "tolerance = 0.05\n",
        "\n",
        "A = np.block([[A1, I, O, O], [I, A1, I, O], [O, I, A1, I], [O, O, I, A1]])\n",
        "b = np.array([1,2,3,4,5,6,7,8,9,0,1,2,3,4,5,6])"
      ],
      "metadata": {
        "id": "lbouph5ZC-Ve"
      },
      "execution_count": 69,
      "outputs": []
    },
    {
      "cell_type": "code",
      "source": [
        "### Conjugate Gradient Algorithm Function Solver ###\n",
        "def Conjugate_Gradient_Algorithm(A, b, precondition=False): \n",
        "  n = len(A)\n",
        "  C = np.identity(n)\n",
        "\n",
        "  if (precondition == True): \n",
        "    for i in range(n): \n",
        "      C[i, i] = np.sqrt(A[i, i]) \n",
        "  Ci = np.linalg.inv(C)\n",
        "  Ct = np.transpose(Ci)\n",
        "\n",
        "  x = np.zeros(n)\n",
        "  r = b - np.matmul(A, x) \n",
        "  w = np.matmul(Ci, r) \n",
        "  v = np.matmul(Ct, w) \n",
        "  alpha = np.dot(w, w)\n",
        "\n",
        "\n",
        "  for iter in range(MAX_Iteration):\n",
        "  \n",
        "  ### pre == True ###\n",
        "    if (np.linalg.norm(v, np.infty) < tolerance):  \n",
        "        print(\"Total iterations:\", iter+1, \"iterations\")\n",
        "        print(\"x:\", x)\n",
        "        print(\"r:\", r) \n",
        "        return\n",
        "\n",
        "    u = np.matmul(A, v) \n",
        "    t = alpha/np.dot(v, u) \n",
        "    x = x + t*v\n",
        "    r = r - t*u\n",
        "    w = np.matmul(Ci, r) \n",
        "    beta = np.dot(w, w)\n",
        "\n",
        "### pre == False ###\n",
        "    if (np.abs(beta) < tolerance):\n",
        "      if (np.linalg.norm(r, np.infty) < tolerance): \n",
        "          print(\"Total iterations:\", iter+1, \"iterations\")\n",
        "          print(\"x:\", x)\n",
        "          print(\"r:\", r) \n",
        "          return\n",
        "\n",
        "    s = beta/alpha\n",
        "    v = np.matmul(Ct, w) + s*v \n",
        "    alpha = beta\n",
        "  \n",
        "### FAIL ###\n",
        "  print(\"Max iteration exceeded\") \n",
        "  print(r, x)"
      ],
      "metadata": {
        "id": "wH2b5xPw_2V2"
      },
      "execution_count": 70,
      "outputs": []
    },
    {
      "cell_type": "code",
      "source": [
        "#ข้อ a Conjugate gradient algorithm with preconditioning C = C^(-1) = I\n",
        "Conjugate_Gradient_Algorithm(A, b)"
      ],
      "metadata": {
        "colab": {
          "base_uri": "https://localhost:8080/"
        },
        "id": "RcmWhzN4_3B7",
        "outputId": "e8df0e52-7711-4022-fdcb-1af5087d34e0"
      },
      "execution_count": 71,
      "outputs": [
        {
          "output_type": "stream",
          "name": "stdout",
          "text": [
            "Total iterations: 6 iterations\n",
            "x: [2.55334736 4.08842803 4.60862054 3.64429053 5.1416398  7.19755082\n",
            " 7.68268899 5.93426591 5.81909883 5.85423763 5.94188357 4.42349806\n",
            " 3.32263986 4.49345345 4.80656977 3.80901461]\n",
            "r: [ 0.01667838  0.00580658 -0.0190746  -0.03427565  0.0034378  -0.02320881\n",
            " -0.04843512  0.01341393  0.04212197  0.03503615 -0.00053984 -0.00882816\n",
            "  0.02199284  0.00963345  0.01807255 -0.00599059]\n"
          ]
        }
      ]
    },
    {
      "cell_type": "code",
      "source": [
        "#ข้อ b Conjugate gradient algorithm with preconditioning C^(-1) = D^(-1/2)\n",
        "Conjugate_Gradient_Algorithm(A, b, precondition = True)"
      ],
      "metadata": {
        "colab": {
          "base_uri": "https://localhost:8080/"
        },
        "id": "1Mp3_OXgDSYY",
        "outputId": "b06eabce-09de-4ad3-d3c1-632500edb657"
      },
      "execution_count": 72,
      "outputs": [
        {
          "output_type": "stream",
          "name": "stdout",
          "text": [
            "Total iterations: 6 iterations\n",
            "x: [2.55516527 4.100638   4.62978565 3.64666022 5.1208153  7.18461074\n",
            " 7.68174943 5.97511467 5.81471182 5.8569749  5.94147632 4.41712781\n",
            " 3.31364699 4.46938281 4.80432548 3.79829969]\n",
            "r: [ 0.00079221 -0.03299033 -0.09009496  0.01825946  0.07122665  0.02173465\n",
            "  0.00398966 -0.15492121  0.0325899  -0.0177179  -0.00572765  0.04637943\n",
            "  0.02950666  0.09741615 -0.00814311  0.02825452]\n"
          ]
        }
      ]
    }
  ]
}